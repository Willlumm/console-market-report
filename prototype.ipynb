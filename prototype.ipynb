{
 "cells": [
  {
   "cell_type": "code",
   "execution_count": 58,
   "metadata": {},
   "outputs": [
    {
     "data": {
      "text/plain": [
       "WindowsPath('C:/Users/a-wlumme/Downloads')"
      ]
     },
     "execution_count": 58,
     "metadata": {},
     "output_type": "execute_result"
    }
   ],
   "source": [
    "from pathlib import Path\n",
    "\n",
    "downloads = Path(f\"{Path.home()}/Downloads\")\n",
    "downloads"
   ]
  },
  {
   "cell_type": "code",
   "execution_count": 66,
   "metadata": {},
   "outputs": [
    {
     "name": "stdout",
     "output_type": "stream",
     "text": [
      "C:\\Users\\a-wlumme\\Downloads\\1140528a-7409-46fe-8d38-77fe9d05178d.xlsx 1687858595.1208298\n",
      "C:\\Users\\a-wlumme\\Downloads\\16f43988-f211-49c5-97b9-2cf6ba36822f.xlsx 1694725221.3346963\n",
      "C:\\Users\\a-wlumme\\Downloads\\22c926dd-50be-4e0a-8867-9a6b9e1c2f3b.xlsx 1687507511.2859676\n",
      "C:\\Users\\a-wlumme\\Downloads\\31539b1e-5cd1-4d46-b0c4-48b364554521.xlsx 1688122053.0908456\n",
      "C:\\Users\\a-wlumme\\Downloads\\52fd2773-67f5-4984-a2f6-b3d765179034.xlsx 1690277367.559898\n",
      "C:\\Users\\a-wlumme\\Downloads\\58ad2d36-9dc8-43d6-8439-6fab6cdaf435.xlsx 1693501639.0749838\n",
      "C:\\Users\\a-wlumme\\Downloads\\5dfc68e0-acd5-4163-b899-8d07a5fcb607.xlsx 1690468536.3857634\n",
      "C:\\Users\\a-wlumme\\Downloads\\5e246ddd-4667-47e7-a9d2-554250b4b3d8.xlsx 1695315191.716926\n",
      "C:\\Users\\a-wlumme\\Downloads\\66515c94-8eb3-4633-99d6-fa67d6b6886d.xlsx 1688649112.969883\n",
      "C:\\Users\\a-wlumme\\Downloads\\736e750d-0be2-4caa-874e-34737e155fc2.xlsx 1687448419.005486\n",
      "C:\\Users\\a-wlumme\\Downloads\\7ccdc961-3a57-40fa-9449-192f60d52692.xlsx 1688124369.857428\n",
      "C:\\Users\\a-wlumme\\Downloads\\9ffeeae5-1ebe-446a-bd17-48f6d79ce64b.xlsx 1691072317.7438736\n",
      "C:\\Users\\a-wlumme\\Downloads\\aa5a94cf-73b2-4e14-b8e3-42180f8f3193.xlsx 1688052722.7034914\n",
      "C:\\Users\\a-wlumme\\Downloads\\ac36aa5a-4e91-4480-9be3-781c5faf1c49.xlsx 1688118600.5374417\n",
      "C:\\Users\\a-wlumme\\Downloads\\b7435710-56d9-4569-9d0a-377880dc30e8.xlsx 1691691107.3234017\n",
      "C:\\Users\\a-wlumme\\Downloads\\c4d5cbd1-244c-4d33-b54c-4d6cc264fd3c.xlsx 1694103291.937604\n",
      "C:\\Users\\a-wlumme\\Downloads\\cc04ccf8-2336-4a99-bbae-5ff050801b75.xlsx 1692900223.3273504\n",
      "C:\\Users\\a-wlumme\\Downloads\\d00cf075-7c52-42e8-bbed-feb42127d0a8.xlsx 1694708252.6812298\n",
      "C:\\Users\\a-wlumme\\Downloads\\d8c32813-81f0-411f-a37a-4eeaf6722023.xlsx 1688055828.5756936\n",
      "C:\\Users\\a-wlumme\\Downloads\\e2561c8b-7890-4938-a1f0-9aaefe69d329.xlsx 1687855824.9453933\n",
      "C:\\Users\\a-wlumme\\Downloads\\eff42ec3-90dc-4856-9ab7-6e0359816929.xlsx 1688124154.6792395\n",
      "C:\\Users\\a-wlumme\\Downloads\\fbfdeba8-2e9a-4f5e-b449-a139a43db36e.xlsx 1692291214.570163\n",
      " 0\n",
      "C:\\Users\\a-wlumme\\Downloads\\5e246ddd-4667-47e7-a9d2-554250b4b3d8.xlsx 1695315191.716926\n"
     ]
    }
   ],
   "source": [
    "import re\n",
    "\n",
    "gfk_fp = \"\"\n",
    "gfk_time = 0\n",
    "gsd_fp = \"\"\n",
    "gsd_time = 0\n",
    "for fp in downloads.iterdir():\n",
    "    if re.fullmatch(\"^.*NEW_HW_DATA.txt$\", str(fp)):\n",
    "        time = fp.stat().st_ctime\n",
    "        print(fp, time)\n",
    "        if time > gfk_time:\n",
    "            gfk_fp = fp\n",
    "            gfk_time = time\n",
    "    elif re.fullmatch(\"^.*\\w{8}-\\w{4}-\\w{4}-\\w{4}-\\w{12}\\.xlsx$\", str(fp)):\n",
    "        time = fp.stat().st_ctime\n",
    "        print(fp, time)\n",
    "        if time > gsd_time:\n",
    "            gsd_fp = fp\n",
    "            gsd_time = time\n",
    "print(gfk_fp, gfk_time)\n",
    "print(gsd_fp, gsd_time)\n"
   ]
  },
  {
   "cell_type": "code",
   "execution_count": 61,
   "metadata": {},
   "outputs": [
    {
     "name": "stdout",
     "output_type": "stream",
     "text": [
      "97\n"
     ]
    }
   ],
   "source": [
    "print(ord(\"a\"))"
   ]
  }
 ],
 "metadata": {
  "kernelspec": {
   "display_name": "Python 3",
   "language": "python",
   "name": "python3"
  },
  "language_info": {
   "codemirror_mode": {
    "name": "ipython",
    "version": 3
   },
   "file_extension": ".py",
   "mimetype": "text/x-python",
   "name": "python",
   "nbconvert_exporter": "python",
   "pygments_lexer": "ipython3",
   "version": "3.10.11"
  },
  "orig_nbformat": 4
 },
 "nbformat": 4,
 "nbformat_minor": 2
}
